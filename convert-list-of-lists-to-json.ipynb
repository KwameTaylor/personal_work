{
 "cells": [
  {
   "cell_type": "code",
   "execution_count": 18,
   "metadata": {},
   "outputs": [
    {
     "name": "stdout",
     "output_type": "stream",
     "text": [
      "      Type         Word\n",
      "0      sar          git\n",
      "1      sar       github\n",
      "2      sar       gitlab\n",
      "3      sar        gitea\n",
      "4      sar    bitbucket\n",
      "..     ...          ...\n",
      "180   sber          IoT\n",
      "181  smber   blockchain\n",
      "182  smber   repository\n",
      "183  smber  northbridge\n",
      "184  smber  southbridge\n",
      "\n",
      "[185 rows x 2 columns]\n"
     ]
    }
   ],
   "source": [
    "# Python3 program to Convert a \n",
    "# list to dictionary\n",
    " \n",
    "import json\n",
    "import pandas as pd\n",
    "\n",
    "noun_list = [\n",
    "    [\"sar\", \"git\"],\n",
    "    [\"sar\", \"github\"],\n",
    "    [\"sar\", \"gitlab\"],\n",
    "    [\"sar\", \"gitea\"],\n",
    "    [\"sar\", \"bitbucket\"],\n",
    "    [\"smer\", \"branch\"],\n",
    "    [\"smer\", \"commit\"],\n",
    "    [\"smber\", \"log\"],\n",
    "    [\"smar\", \"pull request\"],\n",
    "    [\"smar\", \"merge request\"],\n",
    "    [\"smber\", \"stash\"],\n",
    "    [\"sber\", \"status\"],\n",
    "    [\"smber\", \"tag\"],\n",
    "    [\"smber\", \"origin\"],\n",
    "    [\"smber\", \"master\"],\n",
    "    [\"smber\", \"lemur\"],\n",
    "    [\"sber\", \"spacehuhn\"],\n",
    "    [\"smber\", \"laser\"],\n",
    "    [\"smber\", \"signal\"],\n",
    "    [\"smber\", \"network\"],\n",
    "    [\"smber\", \"analyzer\"],\n",
    "    [\"smber\", \"application\"],\n",
    "    [\"smber\", \"firewall\"],\n",
    "    [\"smber\", \"cybernuke\"],\n",
    "    [\"sber\", \"IRC\"],\n",
    "    [\"smber\", \"mainframe\"],\n",
    "    [\"smber\", \"server\"],\n",
    "    [\"smber\", \"cloud\"],\n",
    "    [\"smbr\", \"reality\"],\n",
    "    [\"smer\", \"request\"],\n",
    "    [\"sber\", \"WiFi\"],\n",
    "    [\"sber\", \"Bluetooth\"],\n",
    "    [\"smber\", \"cable\"],\n",
    "    [\"sber\", \"ethernet\"],\n",
    "    [\"sber\", \"LAN\"],\n",
    "    [\"sber\", \"WAN\"],\n",
    "    [\"smber\", \"antenna\"],\n",
    "    [\"sber\", \"NAS\"],\n",
    "    [\"smar\", \"power supply\"],\n",
    "    [\"smber\", \"grid\"],\n",
    "    [\"smber\", \"display\"],\n",
    "    [\"smber\", \"monitor\"],\n",
    "    [\"smber\", \"microcontroller\"],\n",
    "    [\"smber\", \"controller\"],\n",
    "    [\"ser\", \"SoC\"],\n",
    "    [\"sbr\", \"SBC\"],\n",
    "    [\"sbr\", \"ATX\"],\n",
    "    [\"sbr\", \"ITX\"],\n",
    "    [\"sbr\", \"USB\"],\n",
    "    [\"ser\", \"HDD\"],\n",
    "    [\"ser\", \"SSD\"],\n",
    "    [\"smber\", \"keyboard\"],\n",
    "    [\"smer\", \"transition\"],\n",
    "    [\"smber\", \"tree\"],\n",
    "    [\"ser\", \"SD\"],\n",
    "    [\"ser\", \"LED\"],\n",
    "    [\"ser\", \"IDE\"],\n",
    "    [\"smer\", \"editor\"],\n",
    "    [\"smer\", \"frame\"],\n",
    "    [\"ser\", \"PoC\"],\n",
    "    [\"smber\", \"bucket\"],\n",
    "    [\"sber\", \"VM\"],\n",
    "    [\"smer\", \"identifier\"],\n",
    "    [\"sber\", \"middleware\"],\n",
    "    [\"sber\", \"bottleneck\"],\n",
    "    [\"ser\", \"UI\"],\n",
    "    [\"ser\", \"GUI\"],\n",
    "    [\"smber\", \"observer\"],\n",
    "    [\"smber\", \"singleton\"],\n",
    "    [\"smber\", \"array\"],\n",
    "    [\"smber\", \"transmitter\"],\n",
    "    [\"smber\", \"DVD\"],\n",
    "    [\"ber\", \"logic\"],\n",
    "    [\"smber\", \"emulation\"],\n",
    "    [\"smer\", \"reader\"],\n",
    "    [\"smer\", \"writer\"],\n",
    "    [\"smer\", \"label\"],\n",
    "    [\"smber\", \"clock\"],\n",
    "    [\"smber\", \"MCU\"],\n",
    "    [\"smber\", \"phone\"],\n",
    "    [\"smber\", \"space\"],\n",
    "    [\"sber\", \"data\"],\n",
    "    [\"sber\", \"analysis\"],\n",
    "    [\"smber\", \"sample\"],\n",
    "    [\"sber\", \"intelligence\"],\n",
    "    [\"smber\", \"sensor\"],\n",
    "    [\"smber\", \"camera\"],\n",
    "    [\"smber\", \"battery\"],\n",
    "    [\"smber\", \"process\"],\n",
    "    [\"smber\", \"website\"],\n",
    "    [\"smber\", \"homepage\"],\n",
    "    [\"smber\", \"app\"],\n",
    "    [\"smber\", \"error\"],\n",
    "    [\"smber\", \"warning\"],\n",
    "    [\"smber\", \"sequence\"],\n",
    "    [\"smber\", \"information\"],\n",
    "    [\"sbr\", \"ASCII\"],\n",
    "    [\"smber\", \"pattern\"],\n",
    "    [\"smber\", \"simulation\"],\n",
    "    [\"smber\", \"simulator\"],\n",
    "    [\"sber\", \"indicator\"],\n",
    "    [\"smber\", \"troll\"],\n",
    "    [\"smber\", \"regulator\"],\n",
    "    [\"smber\", \"container\"],\n",
    "    [\"smber\", \"breadboard\"],\n",
    "    [\"sber\", \"IC\"],\n",
    "    [\"smber\", \"controller\"],\n",
    "    [\"smber\", \"drone\"],\n",
    "    [\"smber\", \"deauther\"],\n",
    "    [\"smar\", \"if loop\"],\n",
    "    [\"sar\", \"GTFO\"],\n",
    "    [\"sber\", \"fax\"],\n",
    "    [\"smar\", \"garbage collector\"],\n",
    "    [\"smer\", \"collector\"],\n",
    "    [\"smber\", \"thread\"],\n",
    "    [\"smber\", \"model\"],\n",
    "    [\"smber\", \"switch\"],\n",
    "    [\"smber\", \"dimension\"],\n",
    "    [\"sber\", \"foo\"],\n",
    "    [\"sber\", \"bar\"],\n",
    "    [\"smber\", \"key\"],\n",
    "    [\"smber\", \"java\"],\n",
    "    [\"smber\", \"coffee\"],\n",
    "    [\"sbr\", \"null\"],\n",
    "    [\"sbr\", \"NaN\"],\n",
    "    [\"sbr\", \"undefined\"],\n",
    "    [\"smber\", \"integer\"],\n",
    "    [\"smber\", \"double\"],\n",
    "    [\"smber\", \"string\"],\n",
    "    [\"sar\", \"bare metal\"],\n",
    "    [\"smber\", \"adapter\"],\n",
    "    [\"smber\", \"framework\"],\n",
    "    [\"smber\", \"system\"],\n",
    "    [\"smber\", \"algorithm\"],\n",
    "    [\"sbr\", \"spacetime\"],\n",
    "    [\"smbr\", \"LCD\"],\n",
    "    [\"sber\", \"bandwidth\"],\n",
    "    [\"smber\", \"virus\"],\n",
    "    [\"sbr\", \"UTF-8\"],\n",
    "    [\"sber\", \"web\"],\n",
    "    [\"sbr\", \"handler\"],\n",
    "    [\"smber\", \"exeption\"],\n",
    "    [\"smber\", \"path\"],\n",
    "    [\"smber\", \"reference\"],\n",
    "    [\"smber\", \"template\"],\n",
    "    [\"smber\", \"wildcard\"],\n",
    "    [\"smber\", \"interface\"],\n",
    "    [\"sber\", \"syntax\"],\n",
    "    [\"smber\", \"loop\"],\n",
    "    [\"smber\", \"demon\"],\n",
    "    [\"smber\", \"core\"],\n",
    "    [\"sber\", \"interpreter\"],\n",
    "    [\"smber\", \"string\"],\n",
    "    [\"smber\", \"document\"],\n",
    "    [\"smber\", \"cookie\"],\n",
    "    [\"smber\", \"codec\"],\n",
    "    [\"smber\", \"e-mail\"],\n",
    "    [\"sber\", \"OS\"],\n",
    "    [\"smber\", \"service\"],\n",
    "    [\"sber\", \"provider\"],\n",
    "    [\"smber\", \"cache\"],\n",
    "    [\"smber\", \"database\"],\n",
    "    [\"smber\", \"object\"],\n",
    "    [\"smbers\", \"dictionary\"],\n",
    "    [\"sber\", \"driver\"],\n",
    "    [\"smber\", \"index\"],\n",
    "    [\"sber\", \"encoder\"],\n",
    "    [\"smber\", \"list\"],\n",
    "    [\"smber\", \"tuple\"],\n",
    "    [\"smber\", \"range\"],\n",
    "    [\"smber\", \"stream\"],\n",
    "    [\"sber\", \"internet\"],\n",
    "    [\"smber\", \"component\"],\n",
    "    [\"smber\", \"module\"],\n",
    "    [\"smber\", \"library\"],\n",
    "    [\"smber\", \"limit\"],\n",
    "    [\"smber\", \"function\"],\n",
    "    [\"smer\", \"token\"],\n",
    "    [\"smber\", \"code\"],\n",
    "    [\"smber\", \"wave\"],\n",
    "    [\"sber\", \"IoT\"],\n",
    "    [\"smber\", \"blockchain\"],\n",
    "    [\"smber\", \"repository\"],\n",
    "    [\"smber\", \"northbridge\"],\n",
    "    [\"smber\", \"southbridge\"]\n",
    "]\n",
    "\n",
    "noun_list = pd.DataFrame(noun_list, columns = ['Type', 'Word'])\n",
    "#noun_list = noun_list.set_index([0])\n",
    "#noun_list = noun_list.to_dict()\n",
    "print(noun_list)"
   ]
  },
  {
   "cell_type": "code",
   "execution_count": 25,
   "metadata": {},
   "outputs": [
    {
     "ename": "KeyError",
     "evalue": "'s'",
     "output_type": "error",
     "traceback": [
      "\u001b[0;31m---------------------------------------------------------------------------\u001b[0m",
      "\u001b[0;31mKeyError\u001b[0m                                  Traceback (most recent call last)",
      "\u001b[0;32m<ipython-input-25-392a1b745ea9>\u001b[0m in \u001b[0;36m<module>\u001b[0;34m\u001b[0m\n\u001b[1;32m      2\u001b[0m \u001b[0;32mfor\u001b[0m \u001b[0mi\u001b[0m \u001b[0;32min\u001b[0m \u001b[0mnoun_list\u001b[0m\u001b[0;34m.\u001b[0m\u001b[0mType\u001b[0m\u001b[0;34m[\u001b[0m\u001b[0mi\u001b[0m\u001b[0;34m]\u001b[0m\u001b[0;34m:\u001b[0m\u001b[0;34m\u001b[0m\u001b[0;34m\u001b[0m\u001b[0m\n\u001b[1;32m      3\u001b[0m     \u001b[0mlist\u001b[0m \u001b[0;34m=\u001b[0m \u001b[0;34m[\u001b[0m\u001b[0;34m]\u001b[0m\u001b[0;34m\u001b[0m\u001b[0;34m\u001b[0m\u001b[0m\n\u001b[0;32m----> 4\u001b[0;31m     \u001b[0mlist\u001b[0m\u001b[0;34m.\u001b[0m\u001b[0mappend\u001b[0m\u001b[0;34m(\u001b[0m\u001b[0mnoun_list\u001b[0m\u001b[0;34m.\u001b[0m\u001b[0mWord\u001b[0m\u001b[0;34m[\u001b[0m\u001b[0mi\u001b[0m\u001b[0;34m]\u001b[0m\u001b[0;34m)\u001b[0m\u001b[0;34m\u001b[0m\u001b[0;34m\u001b[0m\u001b[0m\n\u001b[0m\u001b[1;32m      5\u001b[0m \u001b[0;34m\u001b[0m\u001b[0m\n\u001b[1;32m      6\u001b[0m \u001b[0mprint\u001b[0m\u001b[0;34m(\u001b[0m\u001b[0mlist\u001b[0m\u001b[0;34m)\u001b[0m\u001b[0;34m\u001b[0m\u001b[0;34m\u001b[0m\u001b[0m\n",
      "\u001b[0;32m/usr/local/anaconda3/lib/python3.8/site-packages/pandas/core/series.py\u001b[0m in \u001b[0;36m__getitem__\u001b[0;34m(self, key)\u001b[0m\n\u001b[1;32m    869\u001b[0m         \u001b[0mkey\u001b[0m \u001b[0;34m=\u001b[0m \u001b[0mcom\u001b[0m\u001b[0;34m.\u001b[0m\u001b[0mapply_if_callable\u001b[0m\u001b[0;34m(\u001b[0m\u001b[0mkey\u001b[0m\u001b[0;34m,\u001b[0m \u001b[0mself\u001b[0m\u001b[0;34m)\u001b[0m\u001b[0;34m\u001b[0m\u001b[0;34m\u001b[0m\u001b[0m\n\u001b[1;32m    870\u001b[0m         \u001b[0;32mtry\u001b[0m\u001b[0;34m:\u001b[0m\u001b[0;34m\u001b[0m\u001b[0;34m\u001b[0m\u001b[0m\n\u001b[0;32m--> 871\u001b[0;31m             \u001b[0mresult\u001b[0m \u001b[0;34m=\u001b[0m \u001b[0mself\u001b[0m\u001b[0;34m.\u001b[0m\u001b[0mindex\u001b[0m\u001b[0;34m.\u001b[0m\u001b[0mget_value\u001b[0m\u001b[0;34m(\u001b[0m\u001b[0mself\u001b[0m\u001b[0;34m,\u001b[0m \u001b[0mkey\u001b[0m\u001b[0;34m)\u001b[0m\u001b[0;34m\u001b[0m\u001b[0;34m\u001b[0m\u001b[0m\n\u001b[0m\u001b[1;32m    872\u001b[0m \u001b[0;34m\u001b[0m\u001b[0m\n\u001b[1;32m    873\u001b[0m             \u001b[0;32mif\u001b[0m \u001b[0;32mnot\u001b[0m \u001b[0mis_scalar\u001b[0m\u001b[0;34m(\u001b[0m\u001b[0mresult\u001b[0m\u001b[0;34m)\u001b[0m\u001b[0;34m:\u001b[0m\u001b[0;34m\u001b[0m\u001b[0;34m\u001b[0m\u001b[0m\n",
      "\u001b[0;32m/usr/local/anaconda3/lib/python3.8/site-packages/pandas/core/indexes/base.py\u001b[0m in \u001b[0;36mget_value\u001b[0;34m(self, series, key)\u001b[0m\n\u001b[1;32m   4403\u001b[0m         \u001b[0mk\u001b[0m \u001b[0;34m=\u001b[0m \u001b[0mself\u001b[0m\u001b[0;34m.\u001b[0m\u001b[0m_convert_scalar_indexer\u001b[0m\u001b[0;34m(\u001b[0m\u001b[0mk\u001b[0m\u001b[0;34m,\u001b[0m \u001b[0mkind\u001b[0m\u001b[0;34m=\u001b[0m\u001b[0;34m\"getitem\"\u001b[0m\u001b[0;34m)\u001b[0m\u001b[0;34m\u001b[0m\u001b[0;34m\u001b[0m\u001b[0m\n\u001b[1;32m   4404\u001b[0m         \u001b[0;32mtry\u001b[0m\u001b[0;34m:\u001b[0m\u001b[0;34m\u001b[0m\u001b[0;34m\u001b[0m\u001b[0m\n\u001b[0;32m-> 4405\u001b[0;31m             \u001b[0;32mreturn\u001b[0m \u001b[0mself\u001b[0m\u001b[0;34m.\u001b[0m\u001b[0m_engine\u001b[0m\u001b[0;34m.\u001b[0m\u001b[0mget_value\u001b[0m\u001b[0;34m(\u001b[0m\u001b[0ms\u001b[0m\u001b[0;34m,\u001b[0m \u001b[0mk\u001b[0m\u001b[0;34m,\u001b[0m \u001b[0mtz\u001b[0m\u001b[0;34m=\u001b[0m\u001b[0mgetattr\u001b[0m\u001b[0;34m(\u001b[0m\u001b[0mseries\u001b[0m\u001b[0;34m.\u001b[0m\u001b[0mdtype\u001b[0m\u001b[0;34m,\u001b[0m \u001b[0;34m\"tz\"\u001b[0m\u001b[0;34m,\u001b[0m \u001b[0;32mNone\u001b[0m\u001b[0;34m)\u001b[0m\u001b[0;34m)\u001b[0m\u001b[0;34m\u001b[0m\u001b[0;34m\u001b[0m\u001b[0m\n\u001b[0m\u001b[1;32m   4406\u001b[0m         \u001b[0;32mexcept\u001b[0m \u001b[0mKeyError\u001b[0m \u001b[0;32mas\u001b[0m \u001b[0me1\u001b[0m\u001b[0;34m:\u001b[0m\u001b[0;34m\u001b[0m\u001b[0;34m\u001b[0m\u001b[0m\n\u001b[1;32m   4407\u001b[0m             \u001b[0;32mif\u001b[0m \u001b[0mlen\u001b[0m\u001b[0;34m(\u001b[0m\u001b[0mself\u001b[0m\u001b[0;34m)\u001b[0m \u001b[0;34m>\u001b[0m \u001b[0;36m0\u001b[0m \u001b[0;32mand\u001b[0m \u001b[0;34m(\u001b[0m\u001b[0mself\u001b[0m\u001b[0;34m.\u001b[0m\u001b[0mholds_integer\u001b[0m\u001b[0;34m(\u001b[0m\u001b[0;34m)\u001b[0m \u001b[0;32mor\u001b[0m \u001b[0mself\u001b[0m\u001b[0;34m.\u001b[0m\u001b[0mis_boolean\u001b[0m\u001b[0;34m(\u001b[0m\u001b[0;34m)\u001b[0m\u001b[0;34m)\u001b[0m\u001b[0;34m:\u001b[0m\u001b[0;34m\u001b[0m\u001b[0;34m\u001b[0m\u001b[0m\n",
      "\u001b[0;32mpandas/_libs/index.pyx\u001b[0m in \u001b[0;36mpandas._libs.index.IndexEngine.get_value\u001b[0;34m()\u001b[0m\n",
      "\u001b[0;32mpandas/_libs/index.pyx\u001b[0m in \u001b[0;36mpandas._libs.index.IndexEngine.get_value\u001b[0;34m()\u001b[0m\n",
      "\u001b[0;32mpandas/_libs/index.pyx\u001b[0m in \u001b[0;36mpandas._libs.index.IndexEngine.get_loc\u001b[0;34m()\u001b[0m\n",
      "\u001b[0;32mpandas/_libs/index_class_helper.pxi\u001b[0m in \u001b[0;36mpandas._libs.index.Int64Engine._check_type\u001b[0;34m()\u001b[0m\n",
      "\u001b[0;31mKeyError\u001b[0m: 's'"
     ]
    }
   ],
   "source": [
    "i = 0\n",
    "for i in noun_list.Type[i]:\n",
    "    list = []\n",
    "    list.append(noun_list.Word[i])\n",
    "\n",
    "print(list)"
   ]
  },
  {
   "cell_type": "code",
   "execution_count": 66,
   "metadata": {},
   "outputs": [
    {
     "data": {
      "text/plain": [
       "ber         1\n",
       "sar         7\n",
       "sber       30\n",
       "sbr        11\n",
       "ser         9\n",
       "smar        5\n",
       "smber     107\n",
       "smbers      1\n",
       "smbr        2\n",
       "smer       12\n",
       "Name: Type, dtype: int64"
      ]
     },
     "execution_count": 66,
     "metadata": {},
     "output_type": "execute_result"
    }
   ],
   "source": [
    "(noun_list.Type.value_counts()).sort_index()"
   ]
  },
  {
   "cell_type": "code",
   "execution_count": 67,
   "metadata": {},
   "outputs": [
    {
     "data": {
      "text/plain": [
       "'logic'"
      ]
     },
     "execution_count": 67,
     "metadata": {},
     "output_type": "execute_result"
    }
   ],
   "source": [
    "ber = noun_list[noun_list.Type == 'ber']\n",
    "\n",
    "ber_list = ber['Word'].to_string(index=False)\n",
    "ber_list = ber_list.replace(' ', '')\n",
    "ber_list = ber_list.replace('\\n', ', ')\n",
    "ber_list"
   ]
  },
  {
   "cell_type": "code",
   "execution_count": 63,
   "metadata": {},
   "outputs": [
    {
     "data": {
      "text/plain": [
       "'git, github, gitlab, gitea, bitbucket, GTFO, baremetal'"
      ]
     },
     "execution_count": 63,
     "metadata": {},
     "output_type": "execute_result"
    }
   ],
   "source": [
    "sar = noun_list[noun_list.Type == 'sar']\n",
    "\n",
    "sar_list = sar['Word'].to_string(index=False)\n",
    "sar_list = sar_list.replace(' ', '')\n",
    "sar_list = sar_list.replace('\\n', ', ')\n",
    "sar_list"
   ]
  },
  {
   "cell_type": "code",
   "execution_count": 89,
   "metadata": {},
   "outputs": [
    {
     "data": {
      "text/plain": [
       "'status\", \"spacehuhn\", \"IRC\", \"WiFi\", \"Bluetooth\", \"ethernet\", \"LAN\", \"WAN\", \"NAS\", \"VM\", \"middleware\", \"bottleneck\", \"data\", \"analysis\", \"intelligence\", \"indicator\", \"IC\", \"fax\", \"foo\", \"bar\", \"bandwidth\", \"web\", \"syntax\", \"interpreter\", \"OS\", \"provider\", \"driver\", \"encoder\", \"internet\", \"IoT'"
      ]
     },
     "execution_count": 89,
     "metadata": {},
     "output_type": "execute_result"
    }
   ],
   "source": [
    "sber = noun_list[noun_list.Type == 'sber']\n",
    "\n",
    "sber_list = sber['Word'].to_string(index=False)\n",
    "sber_list = sber_list.replace(' ', '')\n",
    "sber_list = sber_list.replace('\\n', ', ')\n",
    "sber_list = sber_list.replace(', ', '\", \"')\n",
    "sber_list"
   ]
  },
  {
   "cell_type": "code",
   "execution_count": 90,
   "metadata": {},
   "outputs": [
    {
     "data": {
      "text/plain": [
       "'SBC\", \"ATX\", \"ITX\", \"USB\", \"ASCII\", \"null\", \"NaN\", \"undefined\", \"spacetime\", \"UTF-8\", \"handler'"
      ]
     },
     "execution_count": 90,
     "metadata": {},
     "output_type": "execute_result"
    }
   ],
   "source": [
    "sbr = noun_list[noun_list.Type == 'sbr']\n",
    "\n",
    "sbr_list = sbr['Word'].to_string(index=False)\n",
    "sbr_list = sbr_list.replace(' ', '')\n",
    "sbr_list = sbr_list.replace('\\n', ', ')\n",
    "sbr_list = sbr_list.replace(', ', '\", \"')\n",
    "sbr_list"
   ]
  },
  {
   "cell_type": "code",
   "execution_count": 91,
   "metadata": {},
   "outputs": [
    {
     "data": {
      "text/plain": [
       "'SoC\", \"HDD\", \"SSD\", \"SD\", \"LED\", \"IDE\", \"PoC\", \"UI\", \"GUI'"
      ]
     },
     "execution_count": 91,
     "metadata": {},
     "output_type": "execute_result"
    }
   ],
   "source": [
    "ser = noun_list[noun_list.Type == 'ser']\n",
    "\n",
    "ser_list = ser['Word'].to_string(index=False)\n",
    "ser_list = ser_list.replace(' ', '')\n",
    "ser_list = ser_list.replace('\\n', ', ')\n",
    "ser_list = ser_list.replace(', ', '\", \"')\n",
    "ser_list"
   ]
  },
  {
   "cell_type": "code",
   "execution_count": 92,
   "metadata": {},
   "outputs": [
    {
     "data": {
      "text/plain": [
       "'pullrequest\", \"mergerequest\", \"powersupply\", \"ifloop\", \"garbagecollector'"
      ]
     },
     "execution_count": 92,
     "metadata": {},
     "output_type": "execute_result"
    }
   ],
   "source": [
    "smar = noun_list[noun_list.Type == 'smar']\n",
    "\n",
    "smar_list = smar['Word'].to_string(index=False)\n",
    "smar_list = smar_list.replace(' ', '')\n",
    "smar_list = smar_list.replace('\\n', ', ')\n",
    "smar_list = smar_list.replace(', ', '\", \"')\n",
    "smar_list"
   ]
  },
  {
   "cell_type": "code",
   "execution_count": 93,
   "metadata": {},
   "outputs": [
    {
     "data": {
      "text/plain": [
       "'log\", \"stash\", \"tag\", \"origin\", \"master\", \"lemur\", \"laser\", \"signal\", \"network\", \"analyzer\", \"application\", \"firewall\", \"cybernuke\", \"mainframe\", \"server\", \"cloud\", \"cable\", \"antenna\", \"grid\", \"display\", \"monitor\", \"microcontroller\", \"controller\", \"keyboard\", \"tree\", \"bucket\", \"observer\", \"singleton\", \"array\", \"transmitter\", \"DVD\", \"emulation\", \"clock\", \"MCU\", \"phone\", \"space\", \"sample\", \"sensor\", \"camera\", \"battery\", \"process\", \"website\", \"homepage\", \"app\", \"error\", \"warning\", \"sequence\", \"information\", \"pattern\", \"simulation\", \"simulator\", \"troll\", \"regulator\", \"container\", \"breadboard\", \"controller\", \"drone\", \"deauther\", \"thread\", \"model\", \"switch\", \"dimension\", \"key\", \"java\", \"coffee\", \"integer\", \"double\", \"string\", \"adapter\", \"framework\", \"system\", \"algorithm\", \"virus\", \"exeption\", \"path\", \"reference\", \"template\", \"wildcard\", \"interface\", \"loop\", \"demon\", \"core\", \"string\", \"document\", \"cookie\", \"codec\", \"e-mail\", \"service\", \"cache\", \"database\", \"object\", \"index\", \"list\", \"tuple\", \"range\", \"stream\", \"component\", \"module\", \"library\", \"limit\", \"function\", \"code\", \"wave\", \"blockchain\", \"repository\", \"northbridge\", \"southbridge'"
      ]
     },
     "execution_count": 93,
     "metadata": {},
     "output_type": "execute_result"
    }
   ],
   "source": [
    "smber = noun_list[noun_list.Type == 'smber']\n",
    "\n",
    "smber_list = smber['Word'].to_string(index=False)\n",
    "smber_list = smber_list.replace(' ', '')\n",
    "smber_list = smber_list.replace('\\n', ', ')\n",
    "smber_list = smber_list.replace(', ', '\", \"')\n",
    "smber_list"
   ]
  },
  {
   "cell_type": "code",
   "execution_count": 94,
   "metadata": {},
   "outputs": [
    {
     "data": {
      "text/plain": [
       "'dictionary'"
      ]
     },
     "execution_count": 94,
     "metadata": {},
     "output_type": "execute_result"
    }
   ],
   "source": [
    "smbers = noun_list[noun_list.Type == 'smbers']\n",
    "\n",
    "smbers_list = smbers['Word'].to_string(index=False)\n",
    "smbers_list = smbers_list.replace(' ', '')\n",
    "smbers_list = smbers_list.replace('\\n', ', ')\n",
    "smbers_list = smbers_list.replace(', ', '\", \"')\n",
    "smbers_list"
   ]
  },
  {
   "cell_type": "code",
   "execution_count": 95,
   "metadata": {},
   "outputs": [
    {
     "data": {
      "text/plain": [
       "'reality\", \"LCD'"
      ]
     },
     "execution_count": 95,
     "metadata": {},
     "output_type": "execute_result"
    }
   ],
   "source": [
    "smbr = noun_list[noun_list.Type == 'smbr']\n",
    "\n",
    "smbr_list = smbr['Word'].to_string(index=False)\n",
    "smbr_list = smbr_list.replace(' ', '')\n",
    "smbr_list = smbr_list.replace('\\n', ', ')\n",
    "smbr_list = smbr_list.replace(', ', '\", \"')\n",
    "smbr_list"
   ]
  },
  {
   "cell_type": "code",
   "execution_count": 96,
   "metadata": {},
   "outputs": [
    {
     "data": {
      "text/plain": [
       "'branch\", \"commit\", \"request\", \"transition\", \"editor\", \"frame\", \"identifier\", \"reader\", \"writer\", \"label\", \"collector\", \"token'"
      ]
     },
     "execution_count": 96,
     "metadata": {},
     "output_type": "execute_result"
    }
   ],
   "source": [
    "smer = noun_list[noun_list.Type == 'smer']\n",
    "\n",
    "smer_list = smer['Word'].to_string(index=False)\n",
    "smer_list = smer_list.replace(' ', '')\n",
    "smer_list = smer_list.replace('\\n', ', ')\n",
    "smer_list = smer_list.replace(', ', '\", \"')\n",
    "smer_list"
   ]
  },
  {
   "cell_type": "code",
   "execution_count": null,
   "metadata": {},
   "outputs": [],
   "source": []
  },
  {
   "cell_type": "code",
   "execution_count": null,
   "metadata": {},
   "outputs": [],
   "source": []
  }
 ],
 "metadata": {
  "kernelspec": {
   "display_name": "Python 3",
   "language": "python",
   "name": "python3"
  },
  "language_info": {
   "codemirror_mode": {
    "name": "ipython",
    "version": 3
   },
   "file_extension": ".py",
   "mimetype": "text/x-python",
   "name": "python",
   "nbconvert_exporter": "python",
   "pygments_lexer": "ipython3",
   "version": "3.8.3"
  }
 },
 "nbformat": 4,
 "nbformat_minor": 4
}
