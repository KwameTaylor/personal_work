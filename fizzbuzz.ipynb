{
 "cells": [
  {
   "cell_type": "markdown",
   "metadata": {},
   "source": [
    "# Kwame's Special Fizz Buzz Machine\n",
    "\n",
    "**Oct 26, 2020**"
   ]
  },
  {
   "cell_type": "code",
   "execution_count": 1,
   "metadata": {},
   "outputs": [],
   "source": [
    "from emoji import emojize\n",
    "import googletrans\n",
    "import inflect"
   ]
  },
  {
   "cell_type": "markdown",
   "metadata": {},
   "source": [
    "This function runs Kwame's fizzbuzz, which prints out numbers from 1 to 100, except for each third number it prints a partying face emoji, every fifth number it prints a cowboy hat face emoji, every fifteenth number it prints a face screaming in fear emoji, and every other number prints as the Spanish translation of its English word."
   ]
  },
  {
   "cell_type": "code",
   "execution_count": 2,
   "metadata": {},
   "outputs": [
    {
     "name": "stdout",
     "output_type": "stream",
     "text": [
      "uno\n",
      "dos\n",
      "🥳\n",
      "cuatro\n",
      "🤠\n",
      "🥳\n",
      "Siete\n",
      "ocho\n",
      "🥳\n",
      "🤠\n",
      "once\n",
      "🥳\n",
      "trece\n",
      "catorce\n",
      "😱\n",
      "dieciséis\n",
      "de diecisiete\n",
      "🥳\n",
      "diecinueve\n",
      "🤠\n",
      "🥳\n",
      "Veintidós\n",
      "Veintitres\n",
      "🥳\n",
      "🤠\n",
      "veintiseis\n",
      "🥳\n",
      "veintiocho\n",
      "veintinueve\n",
      "😱\n",
      "treinta y uno\n",
      "treinta y dos\n",
      "🥳\n",
      "treinta y cuatro\n",
      "🤠\n",
      "🥳\n",
      "treinta y siete\n",
      "treinta y ocho\n",
      "🥳\n",
      "🤠\n",
      "cuarenta y uno\n",
      "🥳\n",
      "cuarenta y tres\n",
      "cuarenta y cuatro\n",
      "😱\n",
      "cuarenta y seis\n",
      "cuarenta y siete\n",
      "🥳\n",
      "cuarenta y nueve\n",
      "🤠\n",
      "🥳\n",
      "cincuenta y dos\n",
      "cincuenta y tres\n",
      "🥳\n",
      "🤠\n",
      "cincuenta y seis\n",
      "🥳\n",
      "cincuenta y ocho\n",
      "cincuenta y nueve\n",
      "😱\n",
      "sesenta y uno\n",
      "sesenta y dos\n",
      "🥳\n",
      "sesenta y cuatro\n",
      "🤠\n",
      "🥳\n",
      "sesenta y siete\n",
      "sesenta y ocho\n",
      "🥳\n",
      "🤠\n",
      "setenta y uno\n",
      "🥳\n",
      "setenta y tres\n",
      "setenta y cuatro\n",
      "😱\n",
      "setenta y seis\n",
      "setenta y siete\n",
      "🥳\n",
      "setenta y nueve\n",
      "🤠\n",
      "🥳\n",
      "ochenta y dos\n",
      "ochenta y tres\n",
      "🥳\n",
      "🤠\n",
      "ochenta y seis\n",
      "🥳\n",
      "ochenta y ocho\n",
      "ochenta y nueve\n",
      "😱\n",
      "noventa y uno\n",
      "noventa y dos\n",
      "🥳\n",
      "noventa y cuatro\n",
      "🤠\n",
      "🥳\n",
      "noventa y siete\n",
      "noventa y ocho\n",
      "🥳\n",
      "🤠\n"
     ]
    }
   ],
   "source": [
    "from fizzbuzz import run_fizzbuzz"
   ]
  }
 ],
 "metadata": {
  "kernelspec": {
   "display_name": "Python 3",
   "language": "python",
   "name": "python3"
  },
  "language_info": {
   "codemirror_mode": {
    "name": "ipython",
    "version": 3
   },
   "file_extension": ".py",
   "mimetype": "text/x-python",
   "name": "python",
   "nbconvert_exporter": "python",
   "pygments_lexer": "ipython3",
   "version": "3.8.3"
  }
 },
 "nbformat": 4,
 "nbformat_minor": 4
}
